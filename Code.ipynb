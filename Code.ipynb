{
 "cells": [
  {
   "cell_type": "code",
   "execution_count": 1,
   "metadata": {
    "collapsed": true
   },
   "outputs": [],
   "source": [
    "import pandas as pd\n",
    "import numpy as np\n",
    "\n",
    "from sklearn.model_selection import train_test_split, GridSearchCV\n",
    "from sklearn.metrics import accuracy_score, roc_curve, auc, confusion_matrix, f1_score\n",
    "from sklearn.neural_network import MLPClassifier\n",
    "from sklearn.preprocessing import StandardScaler, MultiLabelBinarizer\n",
    "from sklearn.ensemble import RandomForestClassifier, GradientBoostingClassifier\n",
    "from sklearn.neighbors import KNeighborsClassifier\n",
    "from sklearn.multiclass import OneVsRestClassifier\n",
    "from sklearn.multioutput import ClassifierChain\n",
    "from sklearn.feature_extraction.text import TfidfVectorizer,CountVectorizer\n",
    "from sklearn.cluster import KMeans\n",
    "from sklearn.decomposition import PCA\n",
    "from sklearn.decomposition import LatentDirichletAllocation\n",
    "\n",
    "from nltk.tokenize.regexp import RegexpTokenizer\n",
    "from nltk.corpus import stopwords \n",
    "from nltk.stem.wordnet import WordNetLemmatizer\n",
    "from nltk.stem.porter import PorterStemmer"
   ]
  },
  {
   "cell_type": "code",
   "execution_count": 2,
   "metadata": {
    "collapsed": true
   },
   "outputs": [],
   "source": [
    "import ast\n",
    "import string\n",
    "from subprocess import check_output\n",
    "import gensim\n",
    "from gensim import corpora\n",
    "import re\n",
    "\n",
    "import warnings\n",
    "import librosa\n",
    "from scipy import stats\n",
    "\n",
    "import matplotlib.pyplot as plt\n",
    "import networkx as nx\n",
    "from networkx.drawing.nx_agraph import to_agraph\n",
    "from IPython.display import Image\n",
    "\n",
    "import seaborn as sn\n",
    "% matplotlib inline"
   ]
  },
  {
   "cell_type": "code",
   "execution_count": 3,
   "metadata": {
    "collapsed": true
   },
   "outputs": [],
   "source": [
    "#import plotly.plotly\n",
    "#plotly.offline.init_notebook_mode()\n",
    "#import plotly.graph_objs as go"
   ]
  },
  {
   "cell_type": "markdown",
   "metadata": {},
   "source": [
    "# The Best File"
   ]
  },
  {
   "cell_type": "markdown",
   "metadata": {},
   "source": [
    "## Part A: Cleaning and Statistics of the Database"
   ]
  },
  {
   "cell_type": "markdown",
   "metadata": {},
   "source": [
    "### Cleaning and Merging Datasets"
   ]
  },
  {
   "cell_type": "code",
   "execution_count": 3,
   "metadata": {},
   "outputs": [
    {
     "name": "stderr",
     "output_type": "stream",
     "text": [
      "/Users/danielgomez/anaconda/lib/python2.7/site-packages/IPython/core/interactiveshell.py:2717: DtypeWarning: Columns (0,1,5,6,8,12,18,20,21,22,24,33,34,38,39,44,47,49) have mixed types. Specify dtype option on import or set low_memory=False.\n",
      "  interactivity=interactivity, compiler=compiler, result=result)\n",
      "/Users/danielgomez/anaconda/lib/python2.7/site-packages/IPython/core/interactiveshell.py:2717: DtypeWarning: Columns (0,1,2,3,4,5,6,7,8,9,10,11,12,13,14,15,16,17,18,19,20,21,22,23,24,25,26,27,28,29,30,31,32,33,34,35,36,37,38,39,40,41,42,43,44,45,46,47,48,49,50,51,52,53,54,55,56,57,58,59,60,61,62,63,64,65,66,67,68,69,70,71,72,73,74,75,76,77,78,79,80,81,82,83,84,85,86,87,88,89,90,91,92,93,94,95,96,97,98,99,100,101,102,103,104,105,106,107,108,109,110,111,112,113,114,115,116,117,118,119,120,121,122,123,124,125,126,127,128,129,130,131,132,133,134,135,136,137,138,139,140,141,142,143,144,145,146,147,148,149,150,151,152,153,154,155,156,157,158,159,160,161,162,163,164,165,166,167,168,169,170,171,172,173,174,175,176,177,178,179,180,181,182,183,184,185,186,187,188,189,190,191,192,193,194,195,196,197,198,199,200,201,202,203,204,205,206,207,208,209,210,211,212,213,214,215,216,217,218,219,220,221,222,223,224,225,226,227,228,229,230,231,232,233,234,235,236,237,238,239,240,241,242,243,244,245,246,247,248,249,250,251,252,253,254,255,256,257,258,259,260,261,262,263,264,265,266,267,268,269,270,271,272,273,274,275,276,277,278,279,280,281,282,283,284,285,286,287,288,289,290,291,292,293,294,295,296,297,298,299,300,301,302,303,304,305,306,307,308,309,310,311,312,313,314,315,316,317,318,319,320,321,322,323,324,325,326,327,328,329,330,331,332,333,334,335,336,337,338,339,340,341,342,343,344,345,346,347,348,349,350,351,352,353,354,355,356,357,358,359,360,361,362,363,364,365,366,367,368,369,370,371,372,373,374,375,376,377,378,379,380,381,382,383,384,385,386,387,388,389,390,391,392,393,394,395,396,397,398,399,400,401,402,403,404,405,406,407,408,409,410,411,412,413,414,415,416,417,418,419,420,421,422,423,424,425,426,427,428,429,430,431,432,433,434,435,436,437,438,439,440,441,442,443,444,445,446,447,448,449,450,451,452,453,454,455,456,457,458,459,460,461,462,463,464,465,466,467,468,469,470,471,472,473,474,475,476,477,478,479,480,481,482,483,484,485,486,487,488,489,490,491,492,493,494,495,496,497,498,499,500,501,502,503,504,505,506,507,508,509,510,511,512,513,514,515,516,517,518) have mixed types. Specify dtype option on import or set low_memory=False.\n",
      "  interactivity=interactivity, compiler=compiler, result=result)\n"
     ]
    }
   ],
   "source": [
    "tracks = pd.read_csv('~/Documents/fma_metadata/tracks.csv')#this is the database containing the description of each tracks\n",
    "features = pd.read_csv('~/Documents/fma_metadata/features.csv')#this is the database containing the features of each tracks\n",
    "genres=pd.read_csv('~/Documents/fma_metadata/genres.csv')"
   ]
  },
  {
   "cell_type": "code",
   "execution_count": 4,
   "metadata": {
    "collapsed": true
   },
   "outputs": [],
   "source": [
    "tracks['Unnamed: 0'].iloc[0] = tracks['Unnamed: 0'].iloc[1]\n",
    "\n",
    "tracks.columns = [col[0:5] + '_' + tracks[col][0] for col in tracks.columns]\n",
    "tracks.columns.values[0] = 'track_id'\n",
    "\n",
    "tracks = tracks[2:]\n",
    "tracks = tracks.reset_index(drop=True)\n",
    "\n",
    "keep_variables = ['track_id','track_title','track_genre_top','track_genres','track_genres_all']\n",
    "tracks = tracks[keep_variables]"
   ]
  },
  {
   "cell_type": "code",
   "execution_count": 5,
   "metadata": {
    "collapsed": true
   },
   "outputs": [],
   "source": [
    "features.columns = [col+ '_' + features[col][0] for col in features.columns]\n",
    "features.columns.values[0] = 'track_id'\n",
    "\n",
    "features = features[3:]\n",
    "features = features.reset_index(drop=True)"
   ]
  },
  {
   "cell_type": "code",
   "execution_count": 6,
   "metadata": {
    "collapsed": true
   },
   "outputs": [],
   "source": [
    "df_final = pd.merge(tracks, features, on='track_id', how='inner')\n",
    "cols = [col for col in df_final.columns.values if 'chroma' not in col]\n",
    "df_final = df_final[cols]\n",
    "#df_final.to_csv('df_final.csv',index=False)"
   ]
  },
  {
   "cell_type": "markdown",
   "metadata": {},
   "source": [
    "### Descriptive Statistics"
   ]
  },
  {
   "cell_type": "code",
   "execution_count": 8,
   "metadata": {},
   "outputs": [
    {
     "data": {
      "text/plain": [
       "91213"
      ]
     },
     "execution_count": 8,
     "metadata": {},
     "output_type": "execute_result"
    }
   ],
   "source": [
    "len(df_final)"
   ]
  },
  {
   "cell_type": "code",
   "execution_count": 9,
   "metadata": {},
   "outputs": [
    {
     "data": {
      "text/plain": [
       "271"
      ]
     },
     "execution_count": 9,
     "metadata": {},
     "output_type": "execute_result"
    }
   ],
   "source": [
    "len(df_final.columns)"
   ]
  },
  {
   "cell_type": "code",
   "execution_count": 10,
   "metadata": {
    "collapsed": true
   },
   "outputs": [],
   "source": [
    "G = nx.DiGraph()\n",
    "#Function that inputs the id of the genre and outputs the title of the genre\n",
    "def get_title(genreid,genres=genres):\n",
    "    return(genres.title[genres.genre_id==genreid].unique()[0])\n",
    "#Function that inputs the title of the genre and outputs the id of the genre\n",
    "def get_id(genretitle,genres=genres):\n",
    "    return(genres.genre_id[genres.title==genretitle].unique()[0])\n",
    "#Function that inputs the title of a genre and outputs the subgenres of the genre\n",
    "def get_subgenres(genretitle,G=G):\n",
    "    return([edge[1] for edge in G.edges(genretitle)])"
   ]
  },
  {
   "cell_type": "code",
   "execution_count": 11,
   "metadata": {},
   "outputs": [
    {
     "data": {
      "text/plain": [
       "'\\nG.add_node(\"Genres\")\\nparents=genres.genre_id[genres.parent==0].unique()\\nfor parent in parents:\\n    G.add_edge(\"Genres\",get_title(parent))\\nwhile  not parents==[]:\\n    all_children=[]\\n    for parent in parents:\\n        children=genres.genre_id[genres.parent==parent].unique()\\n        all_children.extend(children)\\n        for child in children:\\n            G.add_edge(get_title(parent),get_title(child))\\n    parents=all_children\\np=nx.drawing.nx_pydot.to_pydot(G)\\np.write_png(\\'Tree_genres.png\\')'"
      ]
     },
     "execution_count": 11,
     "metadata": {},
     "output_type": "execute_result"
    }
   ],
   "source": [
    "'''\n",
    "G.add_node(\"Genres\")\n",
    "parents=genres.genre_id[genres.parent==0].unique()\n",
    "for parent in parents:\n",
    "    G.add_edge(\"Genres\",get_title(parent))\n",
    "while  not parents==[]:\n",
    "    all_children=[]\n",
    "    for parent in parents:\n",
    "        children=genres.genre_id[genres.parent==parent].unique()\n",
    "        all_children.extend(children)\n",
    "        for child in children:\n",
    "            G.add_edge(get_title(parent),get_title(child))\n",
    "    parents=all_children\n",
    "p=nx.drawing.nx_pydot.to_pydot(G)\n",
    "p.write_png('Tree_genres.png')'''"
   ]
  },
  {
   "cell_type": "code",
   "execution_count": 12,
   "metadata": {},
   "outputs": [
    {
     "data": {
      "text/plain": [
       "0"
      ]
     },
     "execution_count": 12,
     "metadata": {},
     "output_type": "execute_result"
    }
   ],
   "source": [
    "len(G.nodes())"
   ]
  },
  {
   "cell_type": "code",
   "execution_count": 13,
   "metadata": {},
   "outputs": [
    {
     "data": {
      "text/plain": [
       "<matplotlib.text.Text at 0x123cfc790>"
      ]
     },
     "execution_count": 13,
     "metadata": {},
     "output_type": "execute_result"
    },
    {
     "data": {
      "image/png": "[encoded data removed]",
      "text/plain": [
       "<matplotlib.figure.Figure at 0x124182e10>"
      ]
     },
     "metadata": {},
     "output_type": "display_data"
    }
   ],
   "source": [
    "count=df_final.track_genre_top.value_counts()\n",
    "sn.set_style(\"whitegrid\")\n",
    "plt.xticks(rotation=90)\n",
    "sn.barplot(x=count.index,y=count.values)\n",
    "plt.title(\"Distribution of the main genres\")"
   ]
  },
  {
   "cell_type": "markdown",
   "metadata": {},
   "source": [
    "## Part B: Neural Networks on Different Genre Amounts"
   ]
  },
  {
   "cell_type": "markdown",
   "metadata": {},
   "source": [
    "In this part, we run neural networks on the top n genres, from n = 1 to 16, and classify as best as we can."
   ]
  },
  {
   "cell_type": "code",
   "execution_count": 14,
   "metadata": {
    "collapsed": true
   },
   "outputs": [],
   "source": [
    "df = df_final"
   ]
  },
  {
   "cell_type": "code",
   "execution_count": 15,
   "metadata": {
    "collapsed": true
   },
   "outputs": [],
   "source": [
    "acc = []\n",
    "f1 = []"
   ]
  },
  {
   "cell_type": "code",
   "execution_count": 16,
   "metadata": {},
   "outputs": [
    {
     "name": "stderr",
     "output_type": "stream",
     "text": [
      "/Users/danielgomez/anaconda/lib/python2.7/site-packages/sklearn/neural_network/multilayer_perceptron.py:564: ConvergenceWarning: Stochastic Optimizer: Maximum iterations (200) reached and the optimization hasn't converged yet.\n",
      "  % self.max_iter, ConvergenceWarning)\n",
      "/Users/danielgomez/anaconda/lib/python2.7/site-packages/sklearn/metrics/classification.py:1135: UndefinedMetricWarning: F-score is ill-defined and being set to 0.0 in labels with no predicted samples.\n",
      "  'precision', 'predicted', average, warn_for)\n"
     ]
    }
   ],
   "source": [
    "for i in range(1,17):\n",
    "    keep_genres = df.track_genre_top.value_counts()[0:i].index.values\n",
    "    dfi = df[df.track_genre_top.isin(keep_genres)]\n",
    "    X,y = dfi.iloc[:,6:],dfi.iloc[:,2]\n",
    "    X_train, X_test, y_train, y_test = train_test_split(X, y, test_size=0.33, random_state=42)\n",
    "    MLP = MLPClassifier(alpha = .1, random_state=1, hidden_layer_sizes = i)\n",
    "    scaler = StandardScaler()\n",
    "    scaler.fit(X_train)\n",
    "    X_train2 = scaler.transform(X_train)\n",
    "    X_test2 = scaler.transform(X_test)\n",
    "    MLP.fit(X_train2,y_train)\n",
    "    y_pred = MLP.predict(X_test2)\n",
    "    acc.append(accuracy_score(y_test,y_pred))\n",
    "    f1.append(f1_score(y_test,y_pred,average='weighted'))"
   ]
  },
  {
   "cell_type": "code",
   "execution_count": 17,
   "metadata": {
    "collapsed": true
   },
   "outputs": [],
   "source": [
    "MLP16 = MLP"
   ]
  },
  {
   "cell_type": "code",
   "execution_count": 18,
   "metadata": {},
   "outputs": [
    {
     "data": {
      "image/png": "[encoded data removed]",
      "text/plain": [
       "<matplotlib.figure.Figure at 0x11ca38190>"
      ]
     },
     "metadata": {},
     "output_type": "display_data"
    }
   ],
   "source": [
    "n_groups = 16\n",
    "\n",
    "fig, ax = plt.subplots()\n",
    "index = np.arange(n_groups)\n",
    "bar_width = 0.35\n",
    "opacity = 0.8\n",
    " \n",
    "rects1 = plt.barh(index, acc[::-1], bar_width,\n",
    "                 alpha=opacity,\n",
    "                 color='b',\n",
    "                 label='Accuracy')\n",
    " \n",
    "rects2 = plt.barh(index + bar_width, f1[::-1], bar_width,\n",
    "                 alpha=opacity,\n",
    "                 color='g',\n",
    "                 label='F1-Score')\n",
    " \n",
    "plt.ylabel('Added Genre')\n",
    "plt.xlabel('Scores')\n",
    "plt.title('Accuracy and F1 by Number of Genres')\n",
    "plt.yticks(index + bar_width, keep_genres[::-1])\n",
    "plt.legend()\n",
    "\n",
    "plt.tight_layout()\n",
    "plt.show()"
   ]
  },
  {
   "cell_type": "markdown",
   "metadata": {},
   "source": [
    "## Part C: Various Multiclass Classifiers on 4 Genres"
   ]
  },
  {
   "cell_type": "markdown",
   "metadata": {},
   "source": [
    "### Preprocessing"
   ]
  },
  {
   "cell_type": "code",
   "execution_count": 19,
   "metadata": {
    "collapsed": true
   },
   "outputs": [],
   "source": [
    "#df = pd.read_csv('df_final.csv')\n",
    "df = df_final\n",
    "df = df.dropna(axis = 0, how = 'any')\n",
    "df=df[[col for col in df.columns.values if 'chroma' not in col]]"
   ]
  },
  {
   "cell_type": "code",
   "execution_count": 20,
   "metadata": {
    "collapsed": true
   },
   "outputs": [],
   "source": [
    "keep_genres = df.track_genre_top.value_counts()[0:4].index.values\n",
    "df = df[df.track_genre_top.isin(keep_genres)]"
   ]
  },
  {
   "cell_type": "code",
   "execution_count": 21,
   "metadata": {
    "collapsed": true
   },
   "outputs": [],
   "source": [
    "X,y = df.iloc[:,5:],df.track_genre_top"
   ]
  },
  {
   "cell_type": "markdown",
   "metadata": {},
   "source": [
    "Here, we split our data in two: we use two third of our data to train our model, one third will be used to test our model. "
   ]
  },
  {
   "cell_type": "code",
   "execution_count": 22,
   "metadata": {
    "collapsed": true
   },
   "outputs": [],
   "source": [
    "X_train, X_test, y_train, y_test = train_test_split(X, y, test_size=0.33, random_state=42)"
   ]
  },
  {
   "cell_type": "code",
   "execution_count": 23,
   "metadata": {
    "collapsed": true
   },
   "outputs": [],
   "source": [
    "scaler = StandardScaler()\n",
    "scaler.fit(X_train)\n",
    "X_train2 = scaler.transform(X_train)\n",
    "X_test2 = scaler.transform(X_test)"
   ]
  },
  {
   "cell_type": "markdown",
   "metadata": {},
   "source": [
    "### Attempt 1: K Nearest Neighbors"
   ]
  },
  {
   "cell_type": "code",
   "execution_count": 24,
   "metadata": {
    "collapsed": true
   },
   "outputs": [],
   "source": [
    "KNN = KNeighborsClassifier()"
   ]
  },
  {
   "cell_type": "code",
   "execution_count": 25,
   "metadata": {},
   "outputs": [
    {
     "name": "stdout",
     "output_type": "stream",
     "text": [
      "Fitting 3 folds for each of 4 candidates, totalling 12 fits\n",
      "[CV] n_neighbors=3 ...................................................\n",
      "[CV] .................................... n_neighbors=3, total=  44.2s\n",
      "[CV] n_neighbors=3 ...................................................\n"
     ]
    },
    {
     "name": "stderr",
     "output_type": "stream",
     "text": [
      "[Parallel(n_jobs=1)]: Done   1 out of   1 | elapsed:  2.2min remaining:    0.0s\n"
     ]
    },
    {
     "name": "stdout",
     "output_type": "stream",
     "text": [
      "[CV] .................................... n_neighbors=3, total=  42.1s\n",
      "[CV] n_neighbors=3 ...................................................\n",
      "[CV] .................................... n_neighbors=3, total=  41.7s\n",
      "[CV] n_neighbors=6 ...................................................\n",
      "[CV] .................................... n_neighbors=6, total=  43.5s\n",
      "[CV] n_neighbors=6 ...................................................\n",
      "[CV] .................................... n_neighbors=6, total=  43.1s\n",
      "[CV] n_neighbors=6 ...................................................\n",
      "[CV] .................................... n_neighbors=6, total=  44.1s\n",
      "[CV] n_neighbors=10 ..................................................\n",
      "[CV] ................................... n_neighbors=10, total=  43.9s\n",
      "[CV] n_neighbors=10 ..................................................\n",
      "[CV] ................................... n_neighbors=10, total=  44.1s\n",
      "[CV] n_neighbors=10 ..................................................\n",
      "[CV] ................................... n_neighbors=10, total=  45.4s\n",
      "[CV] n_neighbors=15 ..................................................\n",
      "[CV] ................................... n_neighbors=15, total=  46.5s\n",
      "[CV] n_neighbors=15 ..................................................\n",
      "[CV] ................................... n_neighbors=15, total=  47.2s\n",
      "[CV] n_neighbors=15 ..................................................\n",
      "[CV] ................................... n_neighbors=15, total=  46.2s\n"
     ]
    },
    {
     "name": "stderr",
     "output_type": "stream",
     "text": [
      "[Parallel(n_jobs=1)]: Done  12 out of  12 | elapsed: 26.3min finished\n"
     ]
    },
    {
     "data": {
      "text/plain": [
       "GridSearchCV(cv=None, error_score='raise',\n",
       "       estimator=KNeighborsClassifier(algorithm='auto', leaf_size=30, metric='minkowski',\n",
       "           metric_params=None, n_jobs=1, n_neighbors=5, p=2,\n",
       "           weights='uniform'),\n",
       "       fit_params=None, iid=True, n_jobs=1,\n",
       "       param_grid={'n_neighbors': [3, 6, 10, 15]}, pre_dispatch='2*n_jobs',\n",
       "       refit=True, return_train_score='warn', scoring='accuracy',\n",
       "       verbose=2)"
      ]
     },
     "execution_count": 25,
     "metadata": {},
     "output_type": "execute_result"
    }
   ],
   "source": [
    "parameters = {\"n_neighbors\" : [3,6,10,15]}\n",
    "clf = GridSearchCV(estimator=KNN, param_grid=parameters, scoring = 'accuracy', verbose = 2)\n",
    "clf.fit(X_train2,y_train) "
   ]
  },
  {
   "cell_type": "code",
   "execution_count": 26,
   "metadata": {
    "collapsed": true
   },
   "outputs": [],
   "source": [
    "KNN = clf.best_estimator_\n",
    "KNN.fit(X_train2,y_train)\n",
    "y_pred = KNN.predict(X_test2)"
   ]
  },
  {
   "cell_type": "code",
   "execution_count": 27,
   "metadata": {},
   "outputs": [
    {
     "data": {
      "text/plain": [
       "0.71344706063163832"
      ]
     },
     "execution_count": 27,
     "metadata": {},
     "output_type": "execute_result"
    }
   ],
   "source": [
    "KNN_acc = accuracy_score(y_test, y_pred)\n",
    "KNN_f1 = f1_score(y_test,y_pred, average='weighted')\n",
    "print KNN_acc, KNN_f1"
   ]
  },
  {
   "cell_type": "code",
   "execution_count": 28,
   "metadata": {},
   "outputs": [
    {
     "data": {
      "text/html": [
       "<div>\n",
       "<style>\n",
       "    .dataframe thead tr:only-child th {\n",
       "        text-align: right;\n",
       "    }\n",
       "\n",
       "    .dataframe thead th {\n",
       "        text-align: left;\n",
       "    }\n",
       "\n",
       "    .dataframe tbody tr th {\n",
       "        vertical-align: top;\n",
       "    }\n",
       "</style>\n",
       "<table border=\"1\" class=\"dataframe\">\n",
       "  <thead>\n",
       "    <tr style=\"text-align: right;\">\n",
       "      <th>Predicted Genres</th>\n",
       "      <th>Electronic</th>\n",
       "      <th>Experimental</th>\n",
       "      <th>Hip-Hop</th>\n",
       "      <th>Rock</th>\n",
       "    </tr>\n",
       "    <tr>\n",
       "      <th>Actual Genres</th>\n",
       "      <th></th>\n",
       "      <th></th>\n",
       "      <th></th>\n",
       "      <th></th>\n",
       "    </tr>\n",
       "  </thead>\n",
       "  <tbody>\n",
       "    <tr>\n",
       "      <th>Electronic</th>\n",
       "      <td>1601</td>\n",
       "      <td>316</td>\n",
       "      <td>229</td>\n",
       "      <td>348</td>\n",
       "    </tr>\n",
       "    <tr>\n",
       "      <th>Experimental</th>\n",
       "      <td>461</td>\n",
       "      <td>1800</td>\n",
       "      <td>107</td>\n",
       "      <td>590</td>\n",
       "    </tr>\n",
       "    <tr>\n",
       "      <th>Hip-Hop</th>\n",
       "      <td>230</td>\n",
       "      <td>50</td>\n",
       "      <td>678</td>\n",
       "      <td>82</td>\n",
       "    </tr>\n",
       "    <tr>\n",
       "      <th>Rock</th>\n",
       "      <td>180</td>\n",
       "      <td>240</td>\n",
       "      <td>51</td>\n",
       "      <td>3237</td>\n",
       "    </tr>\n",
       "  </tbody>\n",
       "</table>\n",
       "</div>"
      ],
      "text/plain": [
       "Predicted Genres  Electronic  Experimental  Hip-Hop  Rock\n",
       "Actual Genres                                            \n",
       "Electronic              1601           316      229   348\n",
       "Experimental             461          1800      107   590\n",
       "Hip-Hop                  230            50      678    82\n",
       "Rock                     180           240       51  3237"
      ]
     },
     "execution_count": 28,
     "metadata": {},
     "output_type": "execute_result"
    }
   ],
   "source": [
    "KNN_pred = pd.crosstab(y_test, y_pred, rownames=['Actual Genres'], colnames=['Predicted Genres'])\n",
    "KNN_pred"
   ]
  },
  {
   "cell_type": "markdown",
   "metadata": {},
   "source": [
    "### Attempt 2: Random Forest"
   ]
  },
  {
   "cell_type": "code",
   "execution_count": 29,
   "metadata": {
    "collapsed": true
   },
   "outputs": [],
   "source": [
    "RFC = RandomForestClassifier(class_weight = 'balanced')"
   ]
  },
  {
   "cell_type": "code",
   "execution_count": 30,
   "metadata": {
    "collapsed": true
   },
   "outputs": [
    {
     "name": "stdout",
     "output_type": "stream",
     "text": [
      "Fitting 3 folds for each of 16 candidates, totalling 48 fits\n",
      "[CV] n_estimators=10, max_depth=10 ...................................\n",
      "[CV] .................... n_estimators=10, max_depth=10, total=   1.8s\n",
      "[CV] n_estimators=10, max_depth=10 ...................................\n"
     ]
    },
    {
     "name": "stderr",
     "output_type": "stream",
     "text": [
      "[Parallel(n_jobs=1)]: Done   1 out of   1 | elapsed:    2.0s remaining:    0.0s\n"
     ]
    },
    {
     "name": "stdout",
     "output_type": "stream",
     "text": [
      "[CV] .................... n_estimators=10, max_depth=10, total=   2.0s\n",
      "[CV] n_estimators=10, max_depth=10 ...................................\n",
      "[CV] .................... n_estimators=10, max_depth=10, total=   1.9s\n",
      "[CV] n_estimators=20, max_depth=10 ...................................\n",
      "[CV] .................... n_estimators=20, max_depth=10, total=   3.2s\n",
      "[CV] n_estimators=20, max_depth=10 ...................................\n",
      "[CV] .................... n_estimators=20, max_depth=10, total=   3.2s\n",
      "[CV] n_estimators=20, max_depth=10 ...................................\n",
      "[CV] .................... n_estimators=20, max_depth=10, total=   3.2s\n",
      "[CV] n_estimators=30, max_depth=10 ...................................\n",
      "[CV] .................... n_estimators=30, max_depth=10, total=   4.6s\n",
      "[CV] n_estimators=30, max_depth=10 ...................................\n",
      "[CV] .................... n_estimators=30, max_depth=10, total=   4.6s\n",
      "[CV] n_estimators=30, max_depth=10 ...................................\n",
      "[CV] .................... n_estimators=30, max_depth=10, total=   4.4s\n",
      "[CV] n_estimators=40, max_depth=10 ...................................\n",
      "[CV] .................... n_estimators=40, max_depth=10, total=   5.9s\n",
      "[CV] n_estimators=40, max_depth=10 ...................................\n",
      "[CV] .................... n_estimators=40, max_depth=10, total=   5.7s\n",
      "[CV] n_estimators=40, max_depth=10 ...................................\n",
      "[CV] .................... n_estimators=40, max_depth=10, total=   5.8s\n",
      "[CV] n_estimators=10, max_depth=20 ...................................\n",
      "[CV] .................... n_estimators=10, max_depth=20, total=   2.3s\n",
      "[CV] n_estimators=10, max_depth=20 ...................................\n",
      "[CV] .................... n_estimators=10, max_depth=20, total=   2.3s\n",
      "[CV] n_estimators=10, max_depth=20 ...................................\n",
      "[CV] .................... n_estimators=10, max_depth=20, total=   2.3s\n",
      "[CV] n_estimators=20, max_depth=20 ...................................\n",
      "[CV] .................... n_estimators=20, max_depth=20, total=   4.1s\n",
      "[CV] n_estimators=20, max_depth=20 ...................................\n",
      "[CV] .................... n_estimators=20, max_depth=20, total=   4.1s\n",
      "[CV] n_estimators=20, max_depth=20 ...................................\n",
      "[CV] .................... n_estimators=20, max_depth=20, total=   4.3s\n",
      "[CV] n_estimators=30, max_depth=20 ...................................\n",
      "[CV] .................... n_estimators=30, max_depth=20, total=   6.6s\n",
      "[CV] n_estimators=30, max_depth=20 ...................................\n",
      "[CV] .................... n_estimators=30, max_depth=20, total=   6.1s\n",
      "[CV] n_estimators=30, max_depth=20 ...................................\n",
      "[CV] .................... n_estimators=30, max_depth=20, total=   6.3s\n",
      "[CV] n_estimators=40, max_depth=20 ...................................\n",
      "[CV] .................... n_estimators=40, max_depth=20, total=   8.2s\n",
      "[CV] n_estimators=40, max_depth=20 ...................................\n",
      "[CV] .................... n_estimators=40, max_depth=20, total=   8.2s\n",
      "[CV] n_estimators=40, max_depth=20 ...................................\n",
      "[CV] .................... n_estimators=40, max_depth=20, total=   8.3s\n",
      "[CV] n_estimators=10, max_depth=30 ...................................\n",
      "[CV] .................... n_estimators=10, max_depth=30, total=   2.5s\n",
      "[CV] n_estimators=10, max_depth=30 ...................................\n",
      "[CV] .................... n_estimators=10, max_depth=30, total=   3.0s\n",
      "[CV] n_estimators=10, max_depth=30 ...................................\n",
      "[CV] .................... n_estimators=10, max_depth=30, total=   3.1s\n",
      "[CV] n_estimators=20, max_depth=30 ...................................\n",
      "[CV] .................... n_estimators=20, max_depth=30, total=   4.6s\n",
      "[CV] n_estimators=20, max_depth=30 ...................................\n",
      "[CV] .................... n_estimators=20, max_depth=30, total=   4.7s\n",
      "[CV] n_estimators=20, max_depth=30 ...................................\n",
      "[CV] .................... n_estimators=20, max_depth=30, total=   4.7s\n",
      "[CV] n_estimators=30, max_depth=30 ...................................\n",
      "[CV] .................... n_estimators=30, max_depth=30, total=   6.7s\n",
      "[CV] n_estimators=30, max_depth=30 ...................................\n",
      "[CV] .................... n_estimators=30, max_depth=30, total=   6.7s\n",
      "[CV] n_estimators=30, max_depth=30 ...................................\n",
      "[CV] .................... n_estimators=30, max_depth=30, total=   6.5s\n",
      "[CV] n_estimators=40, max_depth=30 ...................................\n",
      "[CV] .................... n_estimators=40, max_depth=30, total=   8.8s\n",
      "[CV] n_estimators=40, max_depth=30 ...................................\n",
      "[CV] .................... n_estimators=40, max_depth=30, total=   8.7s\n",
      "[CV] n_estimators=40, max_depth=30 ...................................\n",
      "[CV] .................... n_estimators=40, max_depth=30, total=   8.6s\n",
      "[CV] n_estimators=10, max_depth=40 ...................................\n",
      "[CV] .................... n_estimators=10, max_depth=40, total=   2.5s\n",
      "[CV] n_estimators=10, max_depth=40 ...................................\n",
      "[CV] .................... n_estimators=10, max_depth=40, total=   2.5s\n",
      "[CV] n_estimators=10, max_depth=40 ...................................\n",
      "[CV] .................... n_estimators=10, max_depth=40, total=   2.5s\n",
      "[CV] n_estimators=20, max_depth=40 ...................................\n",
      "[CV] .................... n_estimators=20, max_depth=40, total=   4.6s\n",
      "[CV] n_estimators=20, max_depth=40 ...................................\n",
      "[CV] .................... n_estimators=20, max_depth=40, total=   4.9s\n",
      "[CV] n_estimators=20, max_depth=40 ...................................\n",
      "[CV] .................... n_estimators=20, max_depth=40, total=   4.9s\n",
      "[CV] n_estimators=30, max_depth=40 ...................................\n",
      "[CV] .................... n_estimators=30, max_depth=40, total=   6.5s\n",
      "[CV] n_estimators=30, max_depth=40 ...................................\n",
      "[CV] .................... n_estimators=30, max_depth=40, total=   7.1s\n",
      "[CV] n_estimators=30, max_depth=40 ...................................\n",
      "[CV] .................... n_estimators=30, max_depth=40, total=   7.6s\n",
      "[CV] n_estimators=40, max_depth=40 ...................................\n",
      "[CV] .................... n_estimators=40, max_depth=40, total=   9.4s\n",
      "[CV] n_estimators=40, max_depth=40 ...................................\n",
      "[CV] .................... n_estimators=40, max_depth=40, total=   8.7s\n",
      "[CV] n_estimators=40, max_depth=40 ...................................\n",
      "[CV] .................... n_estimators=40, max_depth=40, total=   8.6s\n"
     ]
    },
    {
     "name": "stderr",
     "output_type": "stream",
     "text": [
      "[Parallel(n_jobs=1)]: Done  48 out of  48 | elapsed:  4.4min finished\n"
     ]
    },
    {
     "data": {
      "text/plain": [
       "GridSearchCV(cv=None, error_score='raise',\n",
       "       estimator=RandomForestClassifier(bootstrap=True, class_weight='balanced',\n",
       "            criterion='gini', max_depth=None, max_features='auto',\n",
       "            max_leaf_nodes=None, min_impurity_decrease=0.0,\n",
       "            min_impurity_split=None, min_samples_leaf=1,\n",
       "            min_samples_split=2, min_weight_fraction_leaf=0.0,\n",
       "            n_estimators=10, n_jobs=1, oob_score=False, random_state=None,\n",
       "            verbose=0, warm_start=False),\n",
       "       fit_params=None, iid=True, n_jobs=1,\n",
       "       param_grid={'n_estimators': [10, 20, 30, 40], 'max_depth': [10, 20, 30, 40]},\n",
       "       pre_dispatch='2*n_jobs', refit=True, return_train_score='warn',\n",
       "       scoring='accuracy', verbose=2)"
      ]
     },
     "execution_count": 30,
     "metadata": {},
     "output_type": "execute_result"
    }
   ],
   "source": [
    "parameters = {\"n_estimators\" : [10,20,30,40], \"max_depth\" : [10,20,30,40]}\n",
    "clf = GridSearchCV(estimator=RFC, param_grid=parameters, scoring = 'accuracy', verbose = 2)\n",
    "clf.fit(X_train,y_train)"
   ]
  },
  {
   "cell_type": "code",
   "execution_count": 31,
   "metadata": {
    "collapsed": true
   },
   "outputs": [],
   "source": [
    "RFC = clf.best_estimator_\n",
    "RFC.fit(X_train,y_train)\n",
    "y_pred = RFC.predict(X_test)"
   ]
  },
  {
   "cell_type": "code",
   "execution_count": 32,
   "metadata": {},
   "outputs": [
    {
     "data": {
      "text/plain": [
       "0.72942775826815121"
      ]
     },
     "execution_count": 32,
     "metadata": {},
     "output_type": "execute_result"
    }
   ],
   "source": [
    "RFC_acc = accuracy_score(y_test, y_pred)\n",
    "RFC_f1 = f1_score(y_test,y_pred, average='weighted')\n",
    "print RFC_acc, RFC_f1"
   ]
  },
  {
   "cell_type": "code",
   "execution_count": 33,
   "metadata": {},
   "outputs": [
    {
     "data": {
      "text/html": [
       "<div>\n",
       "<style>\n",
       "    .dataframe thead tr:only-child th {\n",
       "        text-align: right;\n",
       "    }\n",
       "\n",
       "    .dataframe thead th {\n",
       "        text-align: left;\n",
       "    }\n",
       "\n",
       "    .dataframe tbody tr th {\n",
       "        vertical-align: top;\n",
       "    }\n",
       "</style>\n",
       "<table border=\"1\" class=\"dataframe\">\n",
       "  <thead>\n",
       "    <tr style=\"text-align: right;\">\n",
       "      <th>Predicted Genres</th>\n",
       "      <th>Electronic</th>\n",
       "      <th>Experimental</th>\n",
       "      <th>Hip-Hop</th>\n",
       "      <th>Rock</th>\n",
       "    </tr>\n",
       "    <tr>\n",
       "      <th>Actual Genres</th>\n",
       "      <th></th>\n",
       "      <th></th>\n",
       "      <th></th>\n",
       "      <th></th>\n",
       "    </tr>\n",
       "  </thead>\n",
       "  <tbody>\n",
       "    <tr>\n",
       "      <th>Electronic</th>\n",
       "      <td>1756</td>\n",
       "      <td>491</td>\n",
       "      <td>42</td>\n",
       "      <td>205</td>\n",
       "    </tr>\n",
       "    <tr>\n",
       "      <th>Experimental</th>\n",
       "      <td>345</td>\n",
       "      <td>2174</td>\n",
       "      <td>22</td>\n",
       "      <td>417</td>\n",
       "    </tr>\n",
       "    <tr>\n",
       "      <th>Hip-Hop</th>\n",
       "      <td>349</td>\n",
       "      <td>101</td>\n",
       "      <td>518</td>\n",
       "      <td>72</td>\n",
       "    </tr>\n",
       "    <tr>\n",
       "      <th>Rock</th>\n",
       "      <td>242</td>\n",
       "      <td>444</td>\n",
       "      <td>17</td>\n",
       "      <td>3005</td>\n",
       "    </tr>\n",
       "  </tbody>\n",
       "</table>\n",
       "</div>"
      ],
      "text/plain": [
       "Predicted Genres  Electronic  Experimental  Hip-Hop  Rock\n",
       "Actual Genres                                            \n",
       "Electronic              1756           491       42   205\n",
       "Experimental             345          2174       22   417\n",
       "Hip-Hop                  349           101      518    72\n",
       "Rock                     242           444       17  3005"
      ]
     },
     "execution_count": 33,
     "metadata": {},
     "output_type": "execute_result"
    }
   ],
   "source": [
    "RFC_pred = pd.crosstab(y_test, y_pred, rownames=['Actual Genres'], colnames=['Predicted Genres'])\n",
    "RFC_pred"
   ]
  },
  {
   "cell_type": "markdown",
   "metadata": {},
   "source": [
    "### Attempt 3: Gradient Boost"
   ]
  },
  {
   "cell_type": "code",
   "execution_count": 34,
   "metadata": {
    "collapsed": true
   },
   "outputs": [],
   "source": [
    "GBC = GradientBoostingClassifier()"
   ]
  },
  {
   "cell_type": "code",
   "execution_count": 35,
   "metadata": {},
   "outputs": [
    {
     "name": "stdout",
     "output_type": "stream",
     "text": [
      "Fitting 3 folds for each of 8 candidates, totalling 24 fits\n"
     ]
    },
    {
     "name": "stderr",
     "output_type": "stream",
     "text": [
      "[Parallel(n_jobs=1)]: Done  24 out of  24 | elapsed: 211.7min finished\n"
     ]
    },
    {
     "data": {
      "text/plain": [
       "GridSearchCV(cv=None, error_score='raise',\n",
       "       estimator=GradientBoostingClassifier(criterion='friedman_mse', init=None,\n",
       "              learning_rate=0.1, loss='deviance', max_depth=3,\n",
       "              max_features=None, max_leaf_nodes=None,\n",
       "              min_impurity_decrease=0.0, min_impurity_split=None,\n",
       "              min_samples_leaf=1, min_samples_split=2,\n",
       "              min_weight_fraction_leaf=0.0, n_estimators=100,\n",
       "              presort='auto', random_state=None, subsample=1.0, verbose=0,\n",
       "              warm_start=False),\n",
       "       fit_params=None, iid=True, n_jobs=1,\n",
       "       param_grid={'min_samples_split': [80, 100], 'max_depth': [5, 8], 'min_samples_leaf': [20, 40]},\n",
       "       pre_dispatch='2*n_jobs', refit=True, return_train_score='warn',\n",
       "       scoring='accuracy', verbose=1)"
      ]
     },
     "execution_count": 35,
     "metadata": {},
     "output_type": "execute_result"
    }
   ],
   "source": [
    "parameters = {'min_samples_split': [80,100], 'min_samples_leaf': [20,40], 'max_depth': [5,8]}\n",
    "clf = GridSearchCV(estimator=GBC, param_grid=parameters, scoring = 'accuracy', verbose = 2)\n",
    "clf.fit(X_train,y_train)"
   ]
  },
  {
   "cell_type": "code",
   "execution_count": 36,
   "metadata": {
    "collapsed": true
   },
   "outputs": [],
   "source": [
    "GBC = clf.best_estimator_\n",
    "GBC.fit(X_train,y_train)\n",
    "y_pred = GBC.predict(X_test)"
   ]
  },
  {
   "cell_type": "code",
   "execution_count": 37,
   "metadata": {},
   "outputs": [
    {
     "data": {
      "text/plain": [
       "0.78192163900893485"
      ]
     },
     "execution_count": 37,
     "metadata": {},
     "output_type": "execute_result"
    }
   ],
   "source": [
    "GBC_acc = accuracy_score(y_test,y_pred)\n",
    "GBC_f1 = f1_score(y_test,y_pred, average='weighted')\n",
    "print GBC_acc, GBC_f1"
   ]
  },
  {
   "cell_type": "code",
   "execution_count": 38,
   "metadata": {},
   "outputs": [
    {
     "data": {
      "text/html": [
       "<div>\n",
       "<style>\n",
       "    .dataframe thead tr:only-child th {\n",
       "        text-align: right;\n",
       "    }\n",
       "\n",
       "    .dataframe thead th {\n",
       "        text-align: left;\n",
       "    }\n",
       "\n",
       "    .dataframe tbody tr th {\n",
       "        vertical-align: top;\n",
       "    }\n",
       "</style>\n",
       "<table border=\"1\" class=\"dataframe\">\n",
       "  <thead>\n",
       "    <tr style=\"text-align: right;\">\n",
       "      <th>Predicted Genres</th>\n",
       "      <th>Electronic</th>\n",
       "      <th>Experimental</th>\n",
       "      <th>Hip-Hop</th>\n",
       "      <th>Rock</th>\n",
       "    </tr>\n",
       "    <tr>\n",
       "      <th>Actual Genres</th>\n",
       "      <th></th>\n",
       "      <th></th>\n",
       "      <th></th>\n",
       "      <th></th>\n",
       "    </tr>\n",
       "  </thead>\n",
       "  <tbody>\n",
       "    <tr>\n",
       "      <th>Electronic</th>\n",
       "      <td>1856</td>\n",
       "      <td>417</td>\n",
       "      <td>60</td>\n",
       "      <td>161</td>\n",
       "    </tr>\n",
       "    <tr>\n",
       "      <th>Experimental</th>\n",
       "      <td>258</td>\n",
       "      <td>2325</td>\n",
       "      <td>28</td>\n",
       "      <td>347</td>\n",
       "    </tr>\n",
       "    <tr>\n",
       "      <th>Hip-Hop</th>\n",
       "      <td>288</td>\n",
       "      <td>72</td>\n",
       "      <td>631</td>\n",
       "      <td>49</td>\n",
       "    </tr>\n",
       "    <tr>\n",
       "      <th>Rock</th>\n",
       "      <td>174</td>\n",
       "      <td>344</td>\n",
       "      <td>19</td>\n",
       "      <td>3171</td>\n",
       "    </tr>\n",
       "  </tbody>\n",
       "</table>\n",
       "</div>"
      ],
      "text/plain": [
       "Predicted Genres  Electronic  Experimental  Hip-Hop  Rock\n",
       "Actual Genres                                            \n",
       "Electronic              1856           417       60   161\n",
       "Experimental             258          2325       28   347\n",
       "Hip-Hop                  288            72      631    49\n",
       "Rock                     174           344       19  3171"
      ]
     },
     "execution_count": 38,
     "metadata": {},
     "output_type": "execute_result"
    }
   ],
   "source": [
    "GBC_pred = pd.crosstab(y_test, y_pred, rownames=['Actual Genres'], colnames=['Predicted Genres'])\n",
    "GBC_pred"
   ]
  },
  {
   "cell_type": "markdown",
   "metadata": {},
   "source": [
    "### Attempt 4: Neural Networks"
   ]
  },
  {
   "cell_type": "code",
   "execution_count": 39,
   "metadata": {
    "collapsed": true
   },
   "outputs": [],
   "source": [
    "MLP = MLPClassifier(alpha = .1, random_state=1)"
   ]
  },
  {
   "cell_type": "code",
   "execution_count": 40,
   "metadata": {},
   "outputs": [
    {
     "name": "stdout",
     "output_type": "stream",
     "text": [
      "Fitting 3 folds for each of 4 candidates, totalling 12 fits\n",
      "[CV] hidden_layer_sizes=(3,) .........................................\n",
      "[CV] .......................... hidden_layer_sizes=(3,), total=   2.4s\n",
      "[CV] hidden_layer_sizes=(3,) .........................................\n"
     ]
    },
    {
     "name": "stderr",
     "output_type": "stream",
     "text": [
      "[Parallel(n_jobs=1)]: Done   1 out of   1 | elapsed:    2.5s remaining:    0.0s\n"
     ]
    },
    {
     "name": "stdout",
     "output_type": "stream",
     "text": [
      "[CV] .......................... hidden_layer_sizes=(3,), total=   2.2s\n",
      "[CV] hidden_layer_sizes=(3,) .........................................\n",
      "[CV] .......................... hidden_layer_sizes=(3,), total=   2.0s\n",
      "[CV] hidden_layer_sizes=(5,) .........................................\n",
      "[CV] .......................... hidden_layer_sizes=(5,), total=   2.3s\n",
      "[CV] hidden_layer_sizes=(5,) .........................................\n",
      "[CV] .......................... hidden_layer_sizes=(5,), total=   2.4s\n",
      "[CV] hidden_layer_sizes=(5,) .........................................\n",
      "[CV] .......................... hidden_layer_sizes=(5,), total=   2.5s\n",
      "[CV] hidden_layer_sizes=(15,) ........................................\n",
      "[CV] ......................... hidden_layer_sizes=(15,), total=   3.7s\n",
      "[CV] hidden_layer_sizes=(15,) ........................................\n",
      "[CV] ......................... hidden_layer_sizes=(15,), total=   3.5s\n",
      "[CV] hidden_layer_sizes=(15,) ........................................\n",
      "[CV] ......................... hidden_layer_sizes=(15,), total=   2.7s\n",
      "[CV] hidden_layer_sizes=(3, 3) .......................................\n",
      "[CV] ........................ hidden_layer_sizes=(3, 3), total=   3.0s\n",
      "[CV] hidden_layer_sizes=(3, 3) .......................................\n",
      "[CV] ........................ hidden_layer_sizes=(3, 3), total=   2.6s\n",
      "[CV] hidden_layer_sizes=(3, 3) .......................................\n",
      "[CV] ........................ hidden_layer_sizes=(3, 3), total=   3.5s\n"
     ]
    },
    {
     "name": "stderr",
     "output_type": "stream",
     "text": [
      "[Parallel(n_jobs=1)]: Done  12 out of  12 | elapsed:   33.0s finished\n"
     ]
    },
    {
     "data": {
      "text/plain": [
       "GridSearchCV(cv=None, error_score='raise',\n",
       "       estimator=MLPClassifier(activation='relu', alpha=0.1, batch_size='auto', beta_1=0.9,\n",
       "       beta_2=0.999, early_stopping=False, epsilon=1e-08,\n",
       "       hidden_layer_sizes=(100,), learning_rate='constant',\n",
       "       learning_rate_init=0.001, max_iter=200, momentum=0.9,\n",
       "       nesterovs_momentum=True, power_t=0.5, random_state=1, shuffle=True,\n",
       "       solver='adam', tol=0.0001, validation_fraction=0.1, verbose=False,\n",
       "       warm_start=False),\n",
       "       fit_params=None, iid=True, n_jobs=1,\n",
       "       param_grid={'hidden_layer_sizes': [(3,), (5,), (15,), (3, 3)]},\n",
       "       pre_dispatch='2*n_jobs', refit=True, return_train_score='warn',\n",
       "       scoring='accuracy', verbose=2)"
      ]
     },
     "execution_count": 40,
     "metadata": {},
     "output_type": "execute_result"
    }
   ],
   "source": [
    "parameters = {'hidden_layer_sizes':[(3,),(5,),(15,),(3,3)]}\n",
    "clf = GridSearchCV(estimator=MLP, param_grid=parameters, scoring = 'accuracy', verbose = 2)\n",
    "clf.fit(X_train2,y_train)"
   ]
  },
  {
   "cell_type": "code",
   "execution_count": 41,
   "metadata": {
    "collapsed": true
   },
   "outputs": [],
   "source": [
    "MLP = clf.best_estimator_\n",
    "MLP.fit(X_train2,y_train)\n",
    "y_pred = MLP.predict(X_test2)"
   ]
  },
  {
   "cell_type": "code",
   "execution_count": 42,
   "metadata": {},
   "outputs": [
    {
     "data": {
      "text/plain": [
       "0.76302096007713849"
      ]
     },
     "execution_count": 42,
     "metadata": {},
     "output_type": "execute_result"
    }
   ],
   "source": [
    "MLP_acc = accuracy_score(y_test,y_pred)\n",
    "MLP_f1 = f1_score(y_test,y_pred,average='weighted')\n",
    "print MLP_acc, MLP_f1"
   ]
  },
  {
   "cell_type": "code",
   "execution_count": 43,
   "metadata": {},
   "outputs": [
    {
     "data": {
      "text/html": [
       "<div>\n",
       "<style>\n",
       "    .dataframe thead tr:only-child th {\n",
       "        text-align: right;\n",
       "    }\n",
       "\n",
       "    .dataframe thead th {\n",
       "        text-align: left;\n",
       "    }\n",
       "\n",
       "    .dataframe tbody tr th {\n",
       "        vertical-align: top;\n",
       "    }\n",
       "</style>\n",
       "<table border=\"1\" class=\"dataframe\">\n",
       "  <thead>\n",
       "    <tr style=\"text-align: right;\">\n",
       "      <th>Predicted Genres</th>\n",
       "      <th>Electronic</th>\n",
       "      <th>Experimental</th>\n",
       "      <th>Hip-Hop</th>\n",
       "      <th>Rock</th>\n",
       "    </tr>\n",
       "    <tr>\n",
       "      <th>Actual Genres</th>\n",
       "      <th></th>\n",
       "      <th></th>\n",
       "      <th></th>\n",
       "      <th></th>\n",
       "    </tr>\n",
       "  </thead>\n",
       "  <tbody>\n",
       "    <tr>\n",
       "      <th>Electronic</th>\n",
       "      <td>1727</td>\n",
       "      <td>446</td>\n",
       "      <td>153</td>\n",
       "      <td>168</td>\n",
       "    </tr>\n",
       "    <tr>\n",
       "      <th>Experimental</th>\n",
       "      <td>284</td>\n",
       "      <td>2279</td>\n",
       "      <td>56</td>\n",
       "      <td>339</td>\n",
       "    </tr>\n",
       "    <tr>\n",
       "      <th>Hip-Hop</th>\n",
       "      <td>217</td>\n",
       "      <td>58</td>\n",
       "      <td>720</td>\n",
       "      <td>45</td>\n",
       "    </tr>\n",
       "    <tr>\n",
       "      <th>Rock</th>\n",
       "      <td>151</td>\n",
       "      <td>453</td>\n",
       "      <td>50</td>\n",
       "      <td>3054</td>\n",
       "    </tr>\n",
       "  </tbody>\n",
       "</table>\n",
       "</div>"
      ],
      "text/plain": [
       "Predicted Genres  Electronic  Experimental  Hip-Hop  Rock\n",
       "Actual Genres                                            \n",
       "Electronic              1727           446      153   168\n",
       "Experimental             284          2279       56   339\n",
       "Hip-Hop                  217            58      720    45\n",
       "Rock                     151           453       50  3054"
      ]
     },
     "execution_count": 43,
     "metadata": {},
     "output_type": "execute_result"
    }
   ],
   "source": [
    "MLP_pred = pd.crosstab(y_test, y_pred, rownames=['Actual Genres'], colnames=['Predicted Genres'])\n",
    "MLP_pred"
   ]
  },
  {
   "cell_type": "markdown",
   "metadata": {},
   "source": [
    "### Comparisons and Statistics"
   ]
  },
  {
   "cell_type": "code",
   "execution_count": 46,
   "metadata": {},
   "outputs": [
    {
     "data": {
      "image/png": "[encoded data removed]",
      "text/plain": [
       "<matplotlib.figure.Figure at 0x1230dcf50>"
      ]
     },
     "metadata": {},
     "output_type": "display_data"
    }
   ],
   "source": [
    "fig, (ax0,ax1,ax2,ax3) = plt.subplots(1, 4, sharex=True, sharey=True)\n",
    "cbar_ax = fig.add_axes([.91,.3,.03,.4])\n",
    "\n",
    "sn.heatmap(KNN_pred.apply(lambda r: r/r.sum(), axis=1),ax=ax0,cbar=True,vmin=0,vmax=1,cbar_ax = cbar_ax, cmap=\"YlGnBu\")\n",
    "ax0.set_title('KNN')\n",
    "sn.heatmap(RFC_pred.apply(lambda r: r/r.sum(), axis=1),ax=ax1,cbar=True,vmin=0,vmax=1,cbar_ax = cbar_ax, cmap=\"YlGnBu\")\n",
    "ax1.set_title('RFC')\n",
    "sn.heatmap(GBC_pred.apply(lambda r: r/r.sum(), axis=1),ax=ax2,cbar=True,vmin=0,vmax=1,cbar_ax = cbar_ax, cmap=\"YlGnBu\")\n",
    "ax2.set_title('GBC')\n",
    "sn.heatmap(MLP_pred.apply(lambda r: r/r.sum(), axis=1),ax=ax3,cbar=True,vmin=0,vmax=1,cbar_ax = cbar_ax, cmap=\"YlGnBu\")\n",
    "ax3.set_title('MLP')\n",
    "\n",
    "fig.suptitle('Classifier Comparison',fontsize=15)\n",
    "\n",
    "plt.show()"
   ]
  },
  {
   "cell_type": "markdown",
   "metadata": {},
   "source": [
    "Here we use our gradient boosting results to see which features are most important, but we could have used any algorithm for this."
   ]
  },
  {
   "cell_type": "code",
   "execution_count": 47,
   "metadata": {},
   "outputs": [
    {
     "data": {
      "image/png": "[encoded data removed]",
      "text/plain": [
       "<matplotlib.figure.Figure at 0x1194a31d0>"
      ]
     },
     "metadata": {},
     "output_type": "display_data"
    }
   ],
   "source": [
    "features = X_train.columns.values\n",
    "importances = GBC.feature_importances_\n",
    "indices = np.argsort(importances)[::-1][0:15]\n",
    "\n",
    "plt.title('Feature Importances')\n",
    "plt.barh(range(len(indices)), importances[indices], color='r', align='center')\n",
    "plt.yticks(range(len(indices)), features[indices]) ## removed [indices]\n",
    "plt.xlabel('Relative Importance')\n",
    "plt.show()"
   ]
  },
  {
   "cell_type": "markdown",
   "metadata": {},
   "source": [
    "## Part D: MultiLabel Classification On More Genres"
   ]
  },
  {
   "cell_type": "markdown",
   "metadata": {},
   "source": [
    "### Preprocessing"
   ]
  },
  {
   "cell_type": "code",
   "execution_count": 7,
   "metadata": {
    "collapsed": true
   },
   "outputs": [],
   "source": [
    "df = df_final[pd.notnull(df_final['track_genres'])]"
   ]
  },
  {
   "cell_type": "code",
   "execution_count": 8,
   "metadata": {
    "collapsed": true
   },
   "outputs": [],
   "source": [
    "track_genres = [ast.literal_eval(l) for l in list(df.track_genres)]\n",
    "track_genres = [[genres[genres.genre_id==k].title.item() for k in el ] for el in track_genres ]\n",
    "\n",
    "d={}\n",
    "for l in track_genres:\n",
    "    for genre in l:\n",
    "        if genre in d:\n",
    "            d[genre]+=1\n",
    "        else:\n",
    "            d[genre]=1\n",
    "\n",
    "min_occurrence = 6000\n",
    "d = {k: v for k, v in d.items() if v > min_occurrence}"
   ]
  },
  {
   "cell_type": "code",
   "execution_count": 9,
   "metadata": {
    "collapsed": true
   },
   "outputs": [],
   "source": [
    "keys,values = [],[]\n",
    "\n",
    "for k,v in d.items():\n",
    "    keys.append(k)\n",
    "    values.append(v)\n",
    "    \n",
    "keys,values = np.array(keys),np.array(values)"
   ]
  },
  {
   "cell_type": "code",
   "execution_count": 10,
   "metadata": {},
   "outputs": [
    {
     "data": {
      "image/png": "[encoded data removed]",
      "text/plain": [
       "<matplotlib.figure.Figure at 0x12e0c3450>"
      ]
     },
     "metadata": {},
     "output_type": "display_data"
    }
   ],
   "source": [
    "indices = np.argsort(values)\n",
    "\n",
    "plt.figure()\n",
    "plt.title(\"Subgenres\")\n",
    "plt.barh(range(0,len(indices)), values[indices],\n",
    "       color=\"r\", align=\"center\")\n",
    "plt.yticks(range(0,len(indices)), keys[indices])\n",
    "plt.ylim([-1, len(indices)])\n",
    "plt.show()"
   ]
  },
  {
   "cell_type": "code",
   "execution_count": 11,
   "metadata": {
    "collapsed": true
   },
   "outputs": [],
   "source": [
    "track_genres1 =[]\n",
    "\n",
    "for l in track_genres:\n",
    "    l1=[]\n",
    "    for genre in l:\n",
    "        if genre in d:\n",
    "            l1.append(genre)\n",
    "    track_genres1.append(l1)"
   ]
  },
  {
   "cell_type": "code",
   "execution_count": 12,
   "metadata": {
    "collapsed": true
   },
   "outputs": [],
   "source": [
    "track_genres1 = [str(s) for s in track_genres1]\n",
    "df.track_genres = track_genres1\n",
    "df = df[df.track_genres!='[]']"
   ]
  },
  {
   "cell_type": "code",
   "execution_count": 13,
   "metadata": {
    "collapsed": true
   },
   "outputs": [],
   "source": [
    "def recall(y_test,y_pred):\n",
    "    predicted = [0 for i in range(len(labels))]\n",
    "    for i in range(len(labels)):\n",
    "        l = y_pred[:,i]+y_test[:,i]\n",
    "        predicted[i] = (l==2).sum()/float(y_test[:,i].sum())\n",
    "    d={ 'Labels': labels, 'Recall': predicted }\n",
    "    return pd.DataFrame(d, columns = ['Labels', 'Recall'])"
   ]
  },
  {
   "cell_type": "code",
   "execution_count": 14,
   "metadata": {
    "collapsed": true
   },
   "outputs": [],
   "source": [
    "def precision(y_test,y_pred):\n",
    "    actual = [0 for i in range(len(labels))]\n",
    "    for i in range(len(labels)):\n",
    "        l = y_pred[:,i]+y_test[:,i]\n",
    "        actual[i] = (l==2).sum()/float(y_pred[:,i].sum())\n",
    "    d={ 'Labels': labels, 'Precision': actual }\n",
    "    return pd.DataFrame(d, columns = ['Labels', 'Precision'])"
   ]
  },
  {
   "cell_type": "code",
   "execution_count": 15,
   "metadata": {
    "collapsed": true
   },
   "outputs": [],
   "source": [
    "df.track_genres = df.track_genres.apply(lambda x: ast.literal_eval(x))"
   ]
  },
  {
   "cell_type": "code",
   "execution_count": 16,
   "metadata": {
    "collapsed": true
   },
   "outputs": [],
   "source": [
    "X,y = df.iloc[:,5:],df.track_genres"
   ]
  },
  {
   "cell_type": "code",
   "execution_count": 17,
   "metadata": {
    "collapsed": true
   },
   "outputs": [],
   "source": [
    "mlb = MultiLabelBinarizer()\n",
    "y = mlb.fit_transform(y)\n",
    "labels = list(mlb.classes_)"
   ]
  },
  {
   "cell_type": "code",
   "execution_count": 18,
   "metadata": {
    "collapsed": true
   },
   "outputs": [],
   "source": [
    "X_train, X_test, y_train, y_test = train_test_split(X, y, test_size=0.33, random_state=42)"
   ]
  },
  {
   "cell_type": "code",
   "execution_count": 19,
   "metadata": {
    "collapsed": true
   },
   "outputs": [],
   "source": [
    "scaler = StandardScaler()\n",
    "scaler.fit(X_train)\n",
    "X_train = scaler.transform(X_train)\n",
    "X_test = scaler.transform(X_test)"
   ]
  },
  {
   "cell_type": "code",
   "execution_count": 20,
   "metadata": {
    "collapsed": true
   },
   "outputs": [],
   "source": [
    "y_count = [0 for i in range(len(y[0,]))]"
   ]
  },
  {
   "cell_type": "code",
   "execution_count": 21,
   "metadata": {
    "collapsed": true
   },
   "outputs": [],
   "source": [
    "for i in range(len(y_count)):\n",
    "    for j in range(len(y)):\n",
    "        if sum(y[j])!=1:\n",
    "            y_count[i]+=y[j,i]"
   ]
  },
  {
   "cell_type": "code",
   "execution_count": 22,
   "metadata": {
    "collapsed": true
   },
   "outputs": [],
   "source": [
    "y_indices_largest = np.argsort(y_count)[::-1]\n",
    "y_indices_smallest = np.argsort(y_count)\n",
    "\n",
    "y_random = np.arange(len(y_count))\n",
    "np.random.shuffle(y_random)\n",
    "\n",
    "order_options = [y_random, y_indices_largest, y_indices_smallest]"
   ]
  },
  {
   "cell_type": "markdown",
   "metadata": {},
   "source": [
    "### Attempt 1: KNN"
   ]
  },
  {
   "cell_type": "markdown",
   "metadata": {},
   "source": [
    "#### One Vs The Rest"
   ]
  },
  {
   "cell_type": "code",
   "execution_count": 23,
   "metadata": {
    "collapsed": true
   },
   "outputs": [],
   "source": [
    "KNN = OneVsRestClassifier(KNeighborsClassifier())"
   ]
  },
  {
   "cell_type": "code",
   "execution_count": null,
   "metadata": {},
   "outputs": [
    {
     "name": "stdout",
     "output_type": "stream",
     "text": [
      "Fitting 3 folds for each of 1 candidates, totalling 3 fits\n",
      "[CV] estimator__n_neighbors=10 .......................................\n"
     ]
    }
   ],
   "source": [
    "parameters = {\"estimator__n_neighbors\" : [10]}#,15,20]}\n",
    "clf = GridSearchCV(estimator=KNN, param_grid=parameters, scoring = 'f1_weighted', verbose = 2)\n",
    "clf.fit(X_train,y_train)"
   ]
  },
  {
   "cell_type": "code",
   "execution_count": null,
   "metadata": {
    "collapsed": true
   },
   "outputs": [],
   "source": [
    "KNN = clf.best_estimator_\n",
    "KNN.fit(X_train,y_train)\n",
    "y_pred = KNN.predict(X_test)"
   ]
  },
  {
   "cell_type": "code",
   "execution_count": null,
   "metadata": {
    "collapsed": true
   },
   "outputs": [],
   "source": [
    "f1_KNN_OvsR = f1_score(y_test, y_pred,average='weighted')\n",
    "Answer_KNN_OvsR = sum(sum(y_pred))/float(len(y_pred))"
   ]
  },
  {
   "cell_type": "markdown",
   "metadata": {},
   "source": [
    "#### Classifier Chain"
   ]
  },
  {
   "cell_type": "code",
   "execution_count": null,
   "metadata": {
    "collapsed": true
   },
   "outputs": [],
   "source": [
    "f1_KNN_CC = 0\n",
    "for order_option in order_options:\n",
    "    KNNChain = ClassifierChain(KNN, order = order_option)\n",
    "    KNNChain.fit(X_train, y_train)\n",
    "    y_pred = KNNChain.predict(X_test)\n",
    "    print(f1_score(y_test,y_pred, average = 'weighted'))\n",
    "    f1_KNN_CC = max(f1_KNN_CC, f1_score(y_test,y_pred, average = 'weighted'))"
   ]
  },
  {
   "cell_type": "code",
   "execution_count": null,
   "metadata": {
    "collapsed": true
   },
   "outputs": [],
   "source": [
    "KNN_recall = recall(y_test,y_pred)\n",
    "KNN_precision = precision(y_test,y_pred)\n",
    "Answer_KNN_CC = sum(sum(y_pred))/float(len(y_pred))"
   ]
  },
  {
   "cell_type": "markdown",
   "metadata": {},
   "source": [
    "### Attempt 2: Random Forest"
   ]
  },
  {
   "cell_type": "markdown",
   "metadata": {},
   "source": [
    "#### One Vs the Rest"
   ]
  },
  {
   "cell_type": "code",
   "execution_count": 23,
   "metadata": {
    "collapsed": true
   },
   "outputs": [],
   "source": [
    "RFC = OneVsRestClassifier(RandomForestClassifier())"
   ]
  },
  {
   "cell_type": "code",
   "execution_count": 24,
   "metadata": {},
   "outputs": [
    {
     "name": "stdout",
     "output_type": "stream",
     "text": [
      "Fitting 3 folds for each of 16 candidates, totalling 48 fits\n"
     ]
    },
    {
     "name": "stderr",
     "output_type": "stream",
     "text": [
      "[Parallel(n_jobs=1)]: Done  48 out of  48 | elapsed: 52.8min finished\n"
     ]
    },
    {
     "data": {
      "text/plain": [
       "GridSearchCV(cv=None, error_score='raise',\n",
       "       estimator=OneVsRestClassifier(estimator=RandomForestClassifier(bootstrap=True, class_weight=None, criterion='gini',\n",
       "            max_depth=None, max_features='auto', max_leaf_nodes=None,\n",
       "            min_impurity_decrease=0.0, min_impurity_split=None,\n",
       "            min_samples_leaf=1, min_samples_split=2,\n",
       "            min_weight_fraction_leaf=0.0, n_estimators=10, n_jobs=1,\n",
       "            oob_score=False, random_state=None, verbose=0,\n",
       "            warm_start=False),\n",
       "          n_jobs=1),\n",
       "       fit_params=None, iid=True, n_jobs=1,\n",
       "       param_grid={'estimator__max_depth': [10, 20, 30, 40], 'estimator__n_estimators': [10, 20, 30, 40]},\n",
       "       pre_dispatch='2*n_jobs', refit=True, return_train_score='warn',\n",
       "       scoring='f1_weighted', verbose=1)"
      ]
     },
     "execution_count": 24,
     "metadata": {},
     "output_type": "execute_result"
    }
   ],
   "source": [
    "parameters = {\"estimator__n_estimators\" : [10,20,30,40], \"estimator__max_depth\" : [10,20,30,40]}\n",
    "clf = GridSearchCV(estimator=RFC, param_grid=parameters, scoring = 'f1_weighted', verbose = 1)\n",
    "clf.fit(X_train,y_train)"
   ]
  },
  {
   "cell_type": "code",
   "execution_count": 25,
   "metadata": {
    "collapsed": true
   },
   "outputs": [],
   "source": [
    "RFC = clf.best_estimator_\n",
    "RFC.fit(X_train,y_train)\n",
    "y_pred = RFC.predict(X_test)"
   ]
  },
  {
   "cell_type": "code",
   "execution_count": 26,
   "metadata": {
    "collapsed": true
   },
   "outputs": [],
   "source": [
    "f1_RF_OvsR = f1_score(y_test, y_pred,average='weighted')\n",
    "Answer_RF_OvsR = sum(sum(y_pred))/float(len(y_pred))"
   ]
  },
  {
   "cell_type": "markdown",
   "metadata": {},
   "source": [
    "#### Classifier Chain"
   ]
  },
  {
   "cell_type": "code",
   "execution_count": 30,
   "metadata": {},
   "outputs": [
    {
     "name": "stdout",
     "output_type": "stream",
     "text": [
      "0.491640854026\n",
      "0.48904234426\n",
      "0.491675953338\n"
     ]
    }
   ],
   "source": [
    "f1_RF_CC = 0\n",
    "for order_option in order_options:\n",
    "    RFCChain = ClassifierChain(RFC, order = order_option)\n",
    "    RFCChain.fit(X_train, y_train)\n",
    "    y_pred = RFCChain.predict(X_test)\n",
    "    print(f1_score(y_test,y_pred, average = 'weighted'))\n",
    "    f1_RF_CC = max(f1_RF_CC, f1_score(y_test,y_pred, average = 'weighted'))"
   ]
  },
  {
   "cell_type": "code",
   "execution_count": null,
   "metadata": {
    "collapsed": true
   },
   "outputs": [],
   "source": [
    "RFC_recall = recall(y_test,y_pred)\n",
    "RFC_precision = precision(y_test,y_pred)\n",
    "Answer_RF_CC = sum(sum(y_pred))/float(len(y_pred))"
   ]
  },
  {
   "cell_type": "markdown",
   "metadata": {},
   "source": [
    "### Attempt 3: Neural Networks"
   ]
  },
  {
   "cell_type": "markdown",
   "metadata": {},
   "source": [
    "#### One Vs the Rest"
   ]
  },
  {
   "cell_type": "code",
   "execution_count": 32,
   "metadata": {
    "collapsed": true
   },
   "outputs": [],
   "source": [
    "MLP = MLPClassifier(solver='lbfgs', hidden_layer_sizes=(15,), random_state=1)"
   ]
  },
  {
   "cell_type": "code",
   "execution_count": 33,
   "metadata": {},
   "outputs": [
    {
     "name": "stdout",
     "output_type": "stream",
     "text": [
      "Fitting 3 folds for each of 6 candidates, totalling 18 fits\n",
      "[CV] alpha=0.1 .......................................................\n",
      "[CV] ........................................ alpha=0.1, total=   6.6s\n",
      "[CV] alpha=0.1 .......................................................\n"
     ]
    },
    {
     "name": "stderr",
     "output_type": "stream",
     "text": [
      "[Parallel(n_jobs=1)]: Done   1 out of   1 | elapsed:    6.6s remaining:    0.0s\n"
     ]
    },
    {
     "name": "stdout",
     "output_type": "stream",
     "text": [
      "[CV] ........................................ alpha=0.1, total=   6.1s\n",
      "[CV] alpha=0.1 .......................................................\n",
      "[CV] ........................................ alpha=0.1, total=   6.4s\n",
      "[CV] alpha=0.01 ......................................................\n",
      "[CV] ....................................... alpha=0.01, total=  10.3s\n",
      "[CV] alpha=0.01 ......................................................\n",
      "[CV] ....................................... alpha=0.01, total=  11.0s\n",
      "[CV] alpha=0.01 ......................................................\n",
      "[CV] ....................................... alpha=0.01, total=   9.6s\n",
      "[CV] alpha=0.001 .....................................................\n",
      "[CV] ...................................... alpha=0.001, total=  10.0s\n",
      "[CV] alpha=0.001 .....................................................\n",
      "[CV] ...................................... alpha=0.001, total=   8.6s\n",
      "[CV] alpha=0.001 .....................................................\n",
      "[CV] ...................................... alpha=0.001, total=   7.2s\n",
      "[CV] alpha=0.0001 ....................................................\n",
      "[CV] ..................................... alpha=0.0001, total=   8.4s\n",
      "[CV] alpha=0.0001 ....................................................\n",
      "[CV] ..................................... alpha=0.0001, total=   6.5s\n",
      "[CV] alpha=0.0001 ....................................................\n",
      "[CV] ..................................... alpha=0.0001, total=   7.6s\n",
      "[CV] alpha=1e-05 .....................................................\n",
      "[CV] ...................................... alpha=1e-05, total=  11.0s\n",
      "[CV] alpha=1e-05 .....................................................\n",
      "[CV] ...................................... alpha=1e-05, total=   7.5s\n",
      "[CV] alpha=1e-05 .....................................................\n",
      "[CV] ...................................... alpha=1e-05, total=   7.8s\n",
      "[CV] alpha=1e-06 .....................................................\n",
      "[CV] ...................................... alpha=1e-06, total=   6.3s\n",
      "[CV] alpha=1e-06 .....................................................\n",
      "[CV] ...................................... alpha=1e-06, total=   6.3s\n",
      "[CV] alpha=1e-06 .....................................................\n",
      "[CV] ...................................... alpha=1e-06, total=   7.3s\n"
     ]
    },
    {
     "name": "stderr",
     "output_type": "stream",
     "text": [
      "[Parallel(n_jobs=1)]: Done  18 out of  18 | elapsed:  2.4min finished\n"
     ]
    },
    {
     "data": {
      "text/plain": [
       "GridSearchCV(cv=None, error_score='raise',\n",
       "       estimator=MLPClassifier(activation='relu', alpha=0.0001, batch_size='auto', beta_1=0.9,\n",
       "       beta_2=0.999, early_stopping=False, epsilon=1e-08,\n",
       "       hidden_layer_sizes=(15,), learning_rate='constant',\n",
       "       learning_rate_init=0.001, max_iter=200, momentum=0.9,\n",
       "       nesterovs_momentum=True, power_t=0.5, random_state=1, shuffle=True,\n",
       "       solver='lbfgs', tol=0.0001, validation_fraction=0.1, verbose=False,\n",
       "       warm_start=False),\n",
       "       fit_params=None, iid=True, n_jobs=1,\n",
       "       param_grid={'alpha': array([  1.00000e-01,   1.00000e-02,   1.00000e-03,   1.00000e-04,\n",
       "         1.00000e-05,   1.00000e-06])},\n",
       "       pre_dispatch='2*n_jobs', refit=True, return_train_score='warn',\n",
       "       scoring='f1_weighted', verbose=2)"
      ]
     },
     "execution_count": 33,
     "metadata": {},
     "output_type": "execute_result"
    }
   ],
   "source": [
    "parameters = {'alpha': 10.0 ** -np.arange(1, 7)}\n",
    "clf = GridSearchCV(estimator=MLP, param_grid=parameters, scoring = 'f1_weighted', verbose = 2)\n",
    "clf.fit(X_train,y_train)"
   ]
  },
  {
   "cell_type": "code",
   "execution_count": 34,
   "metadata": {
    "collapsed": true
   },
   "outputs": [],
   "source": [
    "clf = clf.best_estimator_\n",
    "clf.fit(X_train,y_train)\n",
    "y_pred = clf.predict(X_test)"
   ]
  },
  {
   "cell_type": "code",
   "execution_count": 35,
   "metadata": {
    "collapsed": true
   },
   "outputs": [],
   "source": [
    "f1_NN_OvsR = f1_score(y_test, y_pred, average = 'weighted')\n",
    "Answer_NN_OvR = sum(sum(y_pred))/float(len(y_pred))"
   ]
  },
  {
   "cell_type": "markdown",
   "metadata": {},
   "source": [
    "#### Classifier Chain"
   ]
  },
  {
   "cell_type": "code",
   "execution_count": 36,
   "metadata": {},
   "outputs": [
    {
     "name": "stdout",
     "output_type": "stream",
     "text": [
      "0.539560185638\n",
      "0.537312332581\n",
      "0.532895311914\n"
     ]
    }
   ],
   "source": [
    "f1_NN_CC = 0\n",
    "for order_option in order_options:\n",
    "    MLPChain = ClassifierChain(clf, order = order_option)\n",
    "    MLPChain.fit(X_train, y_train)\n",
    "    y_pred = MLPChain.predict(X_test)\n",
    "    print(f1_score(y_test,y_pred, average = 'weighted'))\n",
    "    f1_NN_CC = max(f1_NN_CC, f1_score(y_test,y_pred, average = 'weighted'))"
   ]
  },
  {
   "cell_type": "code",
   "execution_count": 37,
   "metadata": {
    "collapsed": true
   },
   "outputs": [],
   "source": [
    "NN_recall = recall(y_test,y_pred)\n",
    "NN_precision = precision(y_test,y_pred)\n",
    "Answer_NN_CC = sum(sum(y_pred))/float(len(y_pred))"
   ]
  },
  {
   "cell_type": "markdown",
   "metadata": {},
   "source": [
    "### Comparisons"
   ]
  },
  {
   "cell_type": "code",
   "execution_count": 56,
   "metadata": {},
   "outputs": [
    {
     "data": {
      "text/html": [
       "<div>\n",
       "<style>\n",
       "    .dataframe thead tr:only-child th {\n",
       "        text-align: right;\n",
       "    }\n",
       "\n",
       "    .dataframe thead th {\n",
       "        text-align: left;\n",
       "    }\n",
       "\n",
       "    .dataframe tbody tr th {\n",
       "        vertical-align: top;\n",
       "    }\n",
       "</style>\n",
       "<table border=\"1\" class=\"dataframe\">\n",
       "  <thead>\n",
       "    <tr style=\"text-align: right;\">\n",
       "      <th></th>\n",
       "      <th>F1_score</th>\n",
       "    </tr>\n",
       "  </thead>\n",
       "  <tbody>\n",
       "    <tr>\n",
       "      <th>RF_OneVsRest</th>\n",
       "      <td>0.471165</td>\n",
       "    </tr>\n",
       "    <tr>\n",
       "      <th>RF_Chain</th>\n",
       "      <td>0.491676</td>\n",
       "    </tr>\n",
       "    <tr>\n",
       "      <th>NN_OneVsRest</th>\n",
       "      <td>0.521676</td>\n",
       "    </tr>\n",
       "    <tr>\n",
       "      <th>NN_Chain</th>\n",
       "      <td>0.539560</td>\n",
       "    </tr>\n",
       "  </tbody>\n",
       "</table>\n",
       "</div>"
      ],
      "text/plain": [
       "              F1_score\n",
       "RF_OneVsRest  0.471165\n",
       "RF_Chain      0.491676\n",
       "NN_OneVsRest  0.521676\n",
       "NN_Chain      0.539560"
      ]
     },
     "execution_count": 56,
     "metadata": {},
     "output_type": "execute_result"
    }
   ],
   "source": [
    "methods = ['RF_OneVsRest','RF_Chain','NN_OneVsRest','NN_Chain']#,'KNN_OneVsRest','KNN_Chain]\n",
    "f1_score = [ f1_RF_OvsR, f1_RF_CC, f1_NN_OvsR, f1_NN_CC]#,f1_KNN_OvsR, f1_KNN_CC]\n",
    "scores={ 'F1_score': f1_score }\n",
    "f1_score = pd.DataFrame(scores, index = methods, columns =  ['F1_score'])\n",
    "f1_score"
   ]
  },
  {
   "cell_type": "code",
   "execution_count": null,
   "metadata": {
    "collapsed": true
   },
   "outputs": [],
   "source": [
    "recall = pd.merge(RFC_recall, NN_recall, on='Labels') #KNN_recall,\n",
    "recall.columns = ['Labels', 'RFC_recall','NN_recall'] #'KNN_recall'\n",
    "recall"
   ]
  },
  {
   "cell_type": "code",
   "execution_count": 59,
   "metadata": {},
   "outputs": [
    {
     "data": {
      "text/html": [
       "<div>\n",
       "<style>\n",
       "    .dataframe thead tr:only-child th {\n",
       "        text-align: right;\n",
       "    }\n",
       "\n",
       "    .dataframe thead th {\n",
       "        text-align: left;\n",
       "    }\n",
       "\n",
       "    .dataframe tbody tr th {\n",
       "        vertical-align: top;\n",
       "    }\n",
       "</style>\n",
       "<table border=\"1\" class=\"dataframe\">\n",
       "  <thead>\n",
       "    <tr style=\"text-align: right;\">\n",
       "      <th></th>\n",
       "      <th>Labels</th>\n",
       "      <th>RFC_precision</th>\n",
       "      <th>NN_precision</th>\n",
       "    </tr>\n",
       "  </thead>\n",
       "  <tbody>\n",
       "    <tr>\n",
       "      <th>0</th>\n",
       "      <td>Ambient</td>\n",
       "      <td>0.696203</td>\n",
       "      <td>0.425060</td>\n",
       "    </tr>\n",
       "    <tr>\n",
       "      <th>1</th>\n",
       "      <td>Avant-Garde</td>\n",
       "      <td>0.770781</td>\n",
       "      <td>0.384510</td>\n",
       "    </tr>\n",
       "    <tr>\n",
       "      <th>2</th>\n",
       "      <td>Electronic</td>\n",
       "      <td>0.683801</td>\n",
       "      <td>0.637151</td>\n",
       "    </tr>\n",
       "    <tr>\n",
       "      <th>3</th>\n",
       "      <td>Experimental</td>\n",
       "      <td>0.624969</td>\n",
       "      <td>0.642348</td>\n",
       "    </tr>\n",
       "    <tr>\n",
       "      <th>4</th>\n",
       "      <td>Instrumental</td>\n",
       "      <td>0.818363</td>\n",
       "      <td>0.482881</td>\n",
       "    </tr>\n",
       "    <tr>\n",
       "      <th>5</th>\n",
       "      <td>Noise</td>\n",
       "      <td>0.675079</td>\n",
       "      <td>0.391549</td>\n",
       "    </tr>\n",
       "    <tr>\n",
       "      <th>6</th>\n",
       "      <td>Rock</td>\n",
       "      <td>0.850575</td>\n",
       "      <td>0.612142</td>\n",
       "    </tr>\n",
       "  </tbody>\n",
       "</table>\n",
       "</div>"
      ],
      "text/plain": [
       "         Labels  RFC_precision  NN_precision\n",
       "0       Ambient       0.696203      0.425060\n",
       "1   Avant-Garde       0.770781      0.384510\n",
       "2    Electronic       0.683801      0.637151\n",
       "3  Experimental       0.624969      0.642348\n",
       "4  Instrumental       0.818363      0.482881\n",
       "5         Noise       0.675079      0.391549\n",
       "6          Rock       0.850575      0.612142"
      ]
     },
     "execution_count": 59,
     "metadata": {},
     "output_type": "execute_result"
    }
   ],
   "source": [
    "precision = pd.merge(RFC_precision, NN_precision, on='Labels') #KNN_precision,\n",
    "precision.columns = ['Labels', 'RFC_precision','NN_precision'] #, 'KNN_precision'\n",
    "precision"
   ]
  },
  {
   "cell_type": "markdown",
   "metadata": {},
   "source": [
    "## Part E: Clustering on Track Titles"
   ]
  },
  {
   "cell_type": "markdown",
   "metadata": {},
   "source": [
    "### Preprocessing"
   ]
  },
  {
   "cell_type": "code",
   "execution_count": 41,
   "metadata": {
    "collapsed": true
   },
   "outputs": [],
   "source": [
    "analysis_df=df_final[['track_id', 'track_title']]"
   ]
  },
  {
   "cell_type": "code",
   "execution_count": 42,
   "metadata": {
    "collapsed": true
   },
   "outputs": [],
   "source": [
    "def clean(text):\n",
    "    stop = set(stopwords.words('english'))\n",
    "#     stop.update((\"Generic\",\"words\"))\n",
    "    exclude = set(string.punctuation) \n",
    "    lemma = WordNetLemmatizer()\n",
    "#     porter= PorterStemmer()\n",
    "    \n",
    "    text=str(text).rstrip()\n",
    "    text = re.sub(r'[^a-zA-Z]', ' ', text)\n",
    "    stop_free = \" \".join([i for i in text.lower().split() if((i not in stop) and (not i.isdigit()))])\n",
    "    punc_free = ''.join(ch for ch in stop_free if ch not in exclude)\n",
    "    normalized = \" \".join(lemma.lemmatize(word) for word in punc_free.split())\n",
    "    #stem = \" \".join(porter.stem(token) for token in normalized.split())\n",
    "    \n",
    "    return normalized"
   ]
  },
  {
   "cell_type": "code",
   "execution_count": 43,
   "metadata": {
    "collapsed": true
   },
   "outputs": [],
   "source": [
    "text_clean=[]\n",
    "for text in analysis_df['track_title']:\n",
    "    text_clean.append(clean(text).split())"
   ]
  },
  {
   "cell_type": "markdown",
   "metadata": {},
   "source": [
    "### Modelling"
   ]
  },
  {
   "cell_type": "code",
   "execution_count": 44,
   "metadata": {
    "collapsed": true
   },
   "outputs": [],
   "source": [
    "dictionary = corpora.Dictionary(text_clean)\n",
    "text_term_matrix = [dictionary.doc2bow(text) for text in text_clean]"
   ]
  },
  {
   "cell_type": "code",
   "execution_count": 45,
   "metadata": {
    "collapsed": true
   },
   "outputs": [],
   "source": [
    "Lda = gensim.models.ldamodel.LdaModel\n",
    "ldamodel = Lda(text_term_matrix, num_topics=5, id2word = dictionary, passes=20)"
   ]
  },
  {
   "cell_type": "code",
   "execution_count": 46,
   "metadata": {
    "collapsed": true
   },
   "outputs": [],
   "source": [
    "top_words = ldamodel.print_topics(num_topics=5, num_words=20)"
   ]
  },
  {
   "cell_type": "code",
   "execution_count": 47,
   "metadata": {
    "collapsed": true
   },
   "outputs": [],
   "source": [
    "topics_df = []\n",
    "for i in range(0,5):\n",
    "    new_line = re.sub(r'[0-9]+', '',top_words[i][1])\n",
    "    new_line = new_line.replace('*','')\n",
    "    new_line = new_line.replace('\"','')\n",
    "    new_line = new_line.replace('.','')\n",
    "    new_line = new_line.strip().split('+')\n",
    "    topics_df.append(new_line)"
   ]
  },
  {
   "cell_type": "code",
   "execution_count": 48,
   "metadata": {
    "collapsed": true
   },
   "outputs": [],
   "source": [
    "prob_output=[]\n",
    "for text in text_clean:\n",
    "    prob_output.append(list(pd.DataFrame(ldamodel[dictionary.doc2bow(text)])[1]))"
   ]
  },
  {
   "cell_type": "markdown",
   "metadata": {},
   "source": [
    "### Using Probabilities as Columns"
   ]
  },
  {
   "cell_type": "code",
   "execution_count": 49,
   "metadata": {
    "collapsed": true
   },
   "outputs": [],
   "source": [
    "df_test= pd.DataFrame(prob_output, columns=[\"prob_cluster_1\",\"prob_cluster_2\",\"prob_cluster_3\",\"prob_cluster_4\",\"prob_cluster_5\"])\n",
    "df = pd.concat([df_final, df_test], axis=1)\n",
    "\n",
    "df = df.dropna(axis = 0, how = 'any')"
   ]
  },
  {
   "cell_type": "code",
   "execution_count": 50,
   "metadata": {
    "collapsed": true
   },
   "outputs": [],
   "source": [
    "keep_genres = df.track_genre_top.value_counts()[0:4].index.values\n",
    "df = df[df.track_genre_top.isin(keep_genres)]\n",
    "\n",
    "X,y = df.iloc[:,5:],df.track_genre_top\n",
    "\n",
    "X_train, X_test, y_train, y_test = train_test_split(X, y, test_size=0.33, random_state=42)"
   ]
  },
  {
   "cell_type": "code",
   "execution_count": 51,
   "metadata": {
    "collapsed": true
   },
   "outputs": [],
   "source": [
    "scaler = StandardScaler()\n",
    "scaler.fit(X_train)\n",
    "X_train2 = scaler.transform(X_train)\n",
    "X_test2 = scaler.transform(X_test)"
   ]
  },
  {
   "cell_type": "code",
   "execution_count": 52,
   "metadata": {
    "collapsed": true
   },
   "outputs": [],
   "source": [
    "MLP = MLPClassifier(alpha = .1, random_state=1)"
   ]
  },
  {
   "cell_type": "code",
   "execution_count": 53,
   "metadata": {},
   "outputs": [
    {
     "name": "stdout",
     "output_type": "stream",
     "text": [
      "Fitting 3 folds for each of 4 candidates, totalling 12 fits\n",
      "[CV] hidden_layer_sizes=(3,) .........................................\n",
      "[CV] .......................... hidden_layer_sizes=(3,), total=   2.5s\n",
      "[CV] hidden_layer_sizes=(3,) .........................................\n"
     ]
    },
    {
     "name": "stderr",
     "output_type": "stream",
     "text": [
      "[Parallel(n_jobs=1)]: Done   1 out of   1 | elapsed:    2.6s remaining:    0.0s\n"
     ]
    },
    {
     "name": "stdout",
     "output_type": "stream",
     "text": [
      "[CV] .......................... hidden_layer_sizes=(3,), total=   2.7s\n",
      "[CV] hidden_layer_sizes=(3,) .........................................\n",
      "[CV] .......................... hidden_layer_sizes=(3,), total=   3.2s\n",
      "[CV] hidden_layer_sizes=(5,) .........................................\n",
      "[CV] .......................... hidden_layer_sizes=(5,), total=   2.2s\n",
      "[CV] hidden_layer_sizes=(5,) .........................................\n",
      "[CV] .......................... hidden_layer_sizes=(5,), total=   2.1s\n",
      "[CV] hidden_layer_sizes=(5,) .........................................\n",
      "[CV] .......................... hidden_layer_sizes=(5,), total=   2.1s\n",
      "[CV] hidden_layer_sizes=(15,) ........................................\n",
      "[CV] ......................... hidden_layer_sizes=(15,), total=   3.0s\n",
      "[CV] hidden_layer_sizes=(15,) ........................................\n",
      "[CV] ......................... hidden_layer_sizes=(15,), total=   2.0s\n",
      "[CV] hidden_layer_sizes=(15,) ........................................\n",
      "[CV] ......................... hidden_layer_sizes=(15,), total=   4.7s\n",
      "[CV] hidden_layer_sizes=(3, 3) .......................................\n",
      "[CV] ........................ hidden_layer_sizes=(3, 3), total=   4.5s\n",
      "[CV] hidden_layer_sizes=(3, 3) .......................................\n",
      "[CV] ........................ hidden_layer_sizes=(3, 3), total=   3.3s\n",
      "[CV] hidden_layer_sizes=(3, 3) .......................................\n",
      "[CV] ........................ hidden_layer_sizes=(3, 3), total=   3.8s\n"
     ]
    },
    {
     "name": "stderr",
     "output_type": "stream",
     "text": [
      "[Parallel(n_jobs=1)]: Done  12 out of  12 | elapsed:   36.4s finished\n"
     ]
    },
    {
     "data": {
      "text/plain": [
       "GridSearchCV(cv=None, error_score='raise',\n",
       "       estimator=MLPClassifier(activation='relu', alpha=0.1, batch_size='auto', beta_1=0.9,\n",
       "       beta_2=0.999, early_stopping=False, epsilon=1e-08,\n",
       "       hidden_layer_sizes=(100,), learning_rate='constant',\n",
       "       learning_rate_init=0.001, max_iter=200, momentum=0.9,\n",
       "       nesterovs_momentum=True, power_t=0.5, random_state=1, shuffle=True,\n",
       "       solver='adam', tol=0.0001, validation_fraction=0.1, verbose=False,\n",
       "       warm_start=False),\n",
       "       fit_params=None, iid=True, n_jobs=1,\n",
       "       param_grid={'hidden_layer_sizes': [(3,), (5,), (15,), (3, 3)]},\n",
       "       pre_dispatch='2*n_jobs', refit=True, return_train_score='warn',\n",
       "       scoring='accuracy', verbose=2)"
      ]
     },
     "execution_count": 53,
     "metadata": {},
     "output_type": "execute_result"
    }
   ],
   "source": [
    "parameters = {'hidden_layer_sizes':[(3,),(5,),(15,),(3,3)]}\n",
    "clf = GridSearchCV(estimator=MLP, param_grid=parameters, scoring = 'accuracy', verbose = 2)\n",
    "clf.fit(X_train2,y_train)"
   ]
  },
  {
   "cell_type": "code",
   "execution_count": 54,
   "metadata": {
    "collapsed": true
   },
   "outputs": [],
   "source": [
    "MLP = clf.best_estimator_\n",
    "MLP.fit(X_train2,y_train)\n",
    "y_pred = MLP.predict(X_test2)"
   ]
  },
  {
   "cell_type": "code",
   "execution_count": 55,
   "metadata": {},
   "outputs": [
    {
     "data": {
      "text/plain": [
       "0.76077885848692517"
      ]
     },
     "execution_count": 55,
     "metadata": {},
     "output_type": "execute_result"
    }
   ],
   "source": [
    "accuracy_score(y_test,y_pred)\n",
    "f1_score(y_test,y_pred,average='weighted')"
   ]
  },
  {
   "cell_type": "markdown",
   "metadata": {},
   "source": [
    "## Part F: Taking in Mp3s"
   ]
  },
  {
   "cell_type": "markdown",
   "metadata": {},
   "source": [
    "### Creating Features From File"
   ]
  },
  {
   "cell_type": "code",
   "execution_count": null,
   "metadata": {
    "collapsed": true
   },
   "outputs": [],
   "source": [
    "def columns():\n",
    "    feature_sizes = dict(tonnetz=6, mfcc=20, rmse=1, zcr=1,\n",
    "                         spectral_centroid=1, spectral_bandwidth=1,\n",
    "                         spectral_contrast=7, spectral_rolloff=1)\n",
    "    \n",
    "    moments = ('mean', 'std', 'skew', 'kurtosis', 'median', 'min', 'max')\n",
    "\n",
    "    columns = []\n",
    "    for name, size in feature_sizes.items():\n",
    "        for moment in moments:\n",
    "            it = ((name, moment, '{:02d}'.format(i+1)) for i in range(size))\n",
    "            columns.extend(it)\n",
    "\n",
    "    names = ('feature', 'statistics', 'number')\n",
    "    columns = pd.MultiIndex.from_tuples(columns, names=names)\n",
    "\n",
    "    # More efficient to slice if indexes are sorted.\n",
    "    return columns.sort_values()"
   ]
  },
  {
   "cell_type": "code",
   "execution_count": null,
   "metadata": {
    "collapsed": true
   },
   "outputs": [],
   "source": [
    "def compute_features(track):\n",
    "    \n",
    "    #Largely based on FMA: A Dataset for music analysis. We wanted our calculated features data to look \n",
    "    #like the original dataset we used, for classification purposes.\n",
    "\n",
    "    features = pd.Series(index=columns(), dtype=np.float32, name=track)\n",
    "\n",
    "    # Catch warnings as exceptions (audioread leaks file descriptors).\n",
    "    warnings.filterwarnings('error', module='librosa')\n",
    "\n",
    "    def feature_stats(name, values):\n",
    "        features[name, 'mean'] = np.mean(values, axis=1)\n",
    "        features[name, 'std'] = np.std(values, axis=1)\n",
    "        features[name, 'skew'] = stats.skew(values, axis=1)\n",
    "        features[name, 'kurtosis'] = stats.kurtosis(values, axis=1)\n",
    "        features[name, 'median'] = np.median(values, axis=1)\n",
    "        features[name, 'min'] = np.min(values, axis=1)\n",
    "        features[name, 'max'] = np.max(values, axis=1)\n",
    "\n",
    "    try:\n",
    "        x, sr = librosa.load(track, sr=None, mono=True)  # kaiser_fast\n",
    "\n",
    "        f = librosa.feature.zero_crossing_rate(x, frame_length=2048, hop_length=512)\n",
    "        feature_stats('zcr', f)\n",
    "\n",
    "        cqt = np.abs(librosa.cqt(x, sr=sr, hop_length=512, bins_per_octave=12,\n",
    "                                 n_bins=7*12, tuning=None))\n",
    "        assert cqt.shape[0] == 7 * 12\n",
    "        assert np.ceil(len(x)/512) <= cqt.shape[1] <= np.ceil(len(x)/512)+1\n",
    "\n",
    "        f = librosa.feature.tonnetz(chroma=f)\n",
    "        feature_stats('tonnetz', f)\n",
    "\n",
    "        del cqt\n",
    "        stft = np.abs(librosa.stft(x, n_fft=2048, hop_length=512))\n",
    "        assert stft.shape[0] == 1 + 2048 // 2\n",
    "        assert np.ceil(len(x)/512) <= stft.shape[1] <= np.ceil(len(x)/512)+1\n",
    "        del x\n",
    "\n",
    "\n",
    "        f = librosa.feature.rmse(S=stft)\n",
    "        feature_stats('rmse', f)\n",
    "\n",
    "        f = librosa.feature.spectral_centroid(S=stft)\n",
    "        feature_stats('spectral_centroid', f)\n",
    "        f = librosa.feature.spectral_bandwidth(S=stft)\n",
    "        feature_stats('spectral_bandwidth', f)\n",
    "        f = librosa.feature.spectral_contrast(S=stft, n_bands=6)\n",
    "        feature_stats('spectral_contrast', f)\n",
    "        f = librosa.feature.spectral_rolloff(S=stft)\n",
    "        feature_stats('spectral_rolloff', f)\n",
    "\n",
    "        mel = librosa.feature.melspectrogram(sr=sr, S=stft**2)\n",
    "        del stft\n",
    "        f = librosa.feature.mfcc(S=librosa.power_to_db(mel), n_mfcc=20)\n",
    "        feature_stats('mfcc', f)\n",
    "\n",
    "    except Exception as e:\n",
    "        print('{}: {}'.format(track, repr(e)))\n",
    "\n",
    "    return features\n"
   ]
  },
  {
   "cell_type": "markdown",
   "metadata": {},
   "source": [
    "### Prediction Function"
   ]
  },
  {
   "cell_type": "code",
   "execution_count": null,
   "metadata": {
    "collapsed": true
   },
   "outputs": [],
   "source": [
    "def GenrePredictor(track):\n",
    "    features = compute_features(track)\n",
    "    return MLP16.predict(features.values.reshape(1,-1))"
   ]
  }
 ],
 "metadata": {
  "kernelspec": {
   "display_name": "Python 2",
   "language": "python",
   "name": "python2"
  },
  "language_info": {
   "codemirror_mode": {
    "name": "ipython",
    "version": 2
   },
   "file_extension": ".py",
   "mimetype": "text/x-python",
   "name": "python",
   "nbconvert_exporter": "python",
   "pygments_lexer": "ipython2",
   "version": "2.7.13"
  }
 },
 "nbformat": 4,
 "nbformat_minor": 2
}
